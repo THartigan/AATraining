{
 "cells": [
  {
   "cell_type": "code",
   "execution_count": 9,
   "metadata": {},
   "outputs": [
    {
     "name": "stdout",
     "output_type": "stream",
     "text": [
      "Using device: mps\n"
     ]
    },
    {
     "name": "stderr",
     "output_type": "stream",
     "text": [
      "/Users/thomas/Development/AATraining/importData.py:128: SettingWithCopyWarning: \n",
      "A value is trying to be set on a copy of a slice from a DataFrame.\n",
      "Try using .loc[row_indexer,col_indexer] = value instead\n",
      "\n",
      "See the caveats in the documentation: https://pandas.pydata.org/pandas-docs/stable/user_guide/indexing.html#returning-a-view-versus-a-copy\n",
      "  trimmed_raw_df[\"time\"] = trimmed_raw_df[\"time\"].apply(lambda x: x - timestamps_df[\"startTime\"][0])\n",
      "/Users/thomas/Development/AATraining/importData.py:172: SettingWithCopyWarning: \n",
      "A value is trying to be set on a copy of a slice from a DataFrame.\n",
      "Try using .loc[row_indexer,col_indexer] = value instead\n",
      "\n",
      "See the caveats in the documentation: https://pandas.pydata.org/pandas-docs/stable/user_guide/indexing.html#returning-a-view-versus-a-copy\n",
      "  start_time_dataset[\"time\"] = start_time_dataset[\"time\"] - start_time\n"
     ]
    },
    {
     "name": "stdout",
     "output_type": "stream",
     "text": [
      "(6803, 9, 200, 1)\n",
      "Model predictions on new dataset:\n",
      "[[[0.00674782]]\n",
      "\n",
      " [[0.00719797]]\n",
      "\n",
      " [[0.00790116]]\n",
      "\n",
      " ...\n",
      "\n",
      " [[0.00123977]]\n",
      "\n",
      " [[0.00096581]]\n",
      "\n",
      " [[0.00111672]]]\n"
     ]
    }
   ],
   "source": [
    "import importData as import_data\n",
    "import torch\n",
    "import torch.nn as nn\n",
    "import torch.optim as optim\n",
    "import os\n",
    "# os.environ['PYTORCH_CUDA_ALLOC_CONF'] = 'expandable_segments:True'\n",
    "from torch.utils.data import DataLoader, TensorDataset, random_split\n",
    "from sklearn.model_selection import train_test_split\n",
    "import numpy as np\n",
    "id = import_data.importData()\n",
    "\n",
    "if   torch.cuda.is_available():\n",
    "    device = torch.device(\"cuda\")\n",
    "elif torch.backends.mps.is_available():\n",
    "    device = torch.device(\"mps\")\n",
    "else:\n",
    "    device = torch.device(\"cpu\")\n",
    "print(f\"Using device: {device}\")\n",
    "\n",
    "# Define the model\n",
    "class CNNLSTMModel(nn.Module):\n",
    "    def __init__(self, max_seq_length):\n",
    "        super(CNNLSTMModel, self).__init__()\n",
    "        self.conv = nn.Conv2d(9, 128, kernel_size=(3, 1))\n",
    "        self.relu = nn.ReLU()\n",
    "        self.pool = nn.MaxPool2d(kernel_size=(2, 1))  # Only pool along the height dimension\n",
    "        self.flatten = nn.Flatten()\n",
    "        self.fc = nn.Linear(12672, 128)  # Adjusted dimensions after conv and pool\n",
    "        self.repeat = nn.Linear(128, 128 * max_seq_length)\n",
    "        self.lstm = nn.LSTM(128, 64, batch_first=True)\n",
    "        self.fc_out = nn.Linear(64, 1)\n",
    "\n",
    "    def forward(self, x):\n",
    "        x = self.conv(x)\n",
    "        x = self.relu(x)\n",
    "        x = self.pool(x)\n",
    "        x = self.flatten(x)\n",
    "        x = self.relu(self.fc(x))\n",
    "        x = self.repeat(x)\n",
    "        x = x.view(-1, max_seq_length, 128)  # Reshape to (batch_size, seq_length, input_size)\n",
    "        x, _ = self.lstm(x)\n",
    "        x = self.fc_out(x)\n",
    "        return x\n",
    "    \n",
    "\n",
    "testuuid = \"98006881-B2F0-4B6B-94CF-A21ABE69F21B\"\n",
    "\n",
    "\n",
    "\n",
    "d_test, t_test = id.import_data(testuuid, 0.02, 100, 2)[:100]\n",
    "print(np.shape(d_test))\n",
    "max_seq_length = t_test.shape[1]\n",
    "# d_test, t_test = d_test[:100], t_test[:100]\n",
    "\n",
    "new_data = torch.tensor(d_test, dtype=torch.float32).to(device)\n",
    "\n",
    "# Load the saved model\n",
    "model = CNNLSTMModel(max_seq_length).to(device)\n",
    "model.load_state_dict(torch.load(\"torch_model_2.pth\"))\n",
    "model.eval()\n",
    "\n",
    "# Run the model on the new dataset\n",
    "with torch.no_grad():\n",
    "    outputs = model(new_data)\n",
    "\n",
    "# Convert the outputs to a NumPy array\n",
    "outputs = outputs.cpu().numpy()\n",
    "\n",
    "# Print the first few predictions\n",
    "print(\"Model predictions on new dataset:\")\n",
    "print(outputs)"
   ]
  },
  {
   "cell_type": "code",
   "execution_count": 11,
   "metadata": {},
   "outputs": [
    {
     "name": "stdout",
     "output_type": "stream",
     "text": [
      "False\n",
      "2.6.0\n"
     ]
    }
   ],
   "source": [
    "print(torch.cuda.is_available())\n",
    "print(torch.__version__)"
   ]
  }
 ],
 "metadata": {
  "kernelspec": {
   "display_name": "DS_Torch",
   "language": "python",
   "name": "python3"
  },
  "language_info": {
   "codemirror_mode": {
    "name": "ipython",
    "version": 3
   },
   "file_extension": ".py",
   "mimetype": "text/x-python",
   "name": "python",
   "nbconvert_exporter": "python",
   "pygments_lexer": "ipython3",
   "version": "3.13.0"
  }
 },
 "nbformat": 4,
 "nbformat_minor": 2
}
