{
 "cells": [
  {
   "cell_type": "code",
   "execution_count": 23,
   "metadata": {},
   "outputs": [
    {
     "name": "stderr",
     "output_type": "stream",
     "text": [
      "/tmp/ipykernel_28498/3622926334.py:38: FutureWarning: You are using `torch.load` with `weights_only=False` (the current default value), which uses the default pickle module implicitly. It is possible to construct malicious pickle data which will execute arbitrary code during unpickling (See https://github.com/pytorch/pytorch/blob/main/SECURITY.md#untrusted-models for more details). In a future release, the default value for `weights_only` will be flipped to `True`. This limits the functions that could be executed during unpickling. Arbitrary objects will no longer be allowed to be loaded via this mode unless they are explicitly allowlisted by the user via `torch.serialization.add_safe_globals`. We recommend you start setting `weights_only=True` for any use case where you don't have full control of the loaded file. Please open an issue on GitHub for any issues related to this experimental feature.\n",
      "  checkpoint = torch.load('checkpoint.pth')\n",
      "/home/thomas/Documents/ActiveAlarm_Processing/conda/lib/python3.10/site-packages/torch/nn/modules/module.py:1562: UserWarning: Implicit dimension choice for softmax has been deprecated. Change the call to include dim=X as an argument.\n",
      "  return forward_call(*args, **kwargs)\n",
      "/home/thomas/Documents/ActiveAlarm_Processing/conda/lib/python3.10/site-packages/torch/nn/modules/module.py:1553: UserWarning: Implicit dimension choice for softmax has been deprecated. Change the call to include dim=X as an argument.\n",
      "  return self._call_impl(*args, **kwargs)\n"
     ]
    },
    {
     "name": "stdout",
     "output_type": "stream",
     "text": [
      "device:  cuda\n"
     ]
    },
    {
     "name": "stderr",
     "output_type": "stream",
     "text": [
      "Converting PyTorch Frontend ==> MIL Ops:  98%|██████████████████████████████████████████████████████████████████████████████████████████████████████████████████████████████████████████████████████████████████████████████▏   | 45/46 [00:00<00:00, 4334.95 ops/s]\n",
      "Running MIL frontend_pytorch pipeline:   0%|                                                                                                                                                                                             | 0/5 [00:00<?, ? passes/s]"
     ]
    },
    {
     "name": "stderr",
     "output_type": "stream",
     "text": [
      "Running MIL frontend_pytorch pipeline: 100%|███████████████████████████████████████████████████████████████████████████████████████████████████████████████████████████████████████████████████████████████████████████████████| 5/5 [00:00<00:00, 1770.20 passes/s]\n",
      "Running MIL default pipeline:   0%|                                                                                                                                                                                                     | 0/86 [00:00<?, ? passes/s]/home/thomas/Documents/ActiveAlarm_Processing/conda/lib/python3.10/site-packages/coremltools/converters/mil/mil/passes/defs/preprocess.py:245: UserWarning: Input, 'x.1', of the source model, has been renamed to 'x_1' in the Core ML model.\n",
      "  warnings.warn(msg.format(var.name, new_name))\n",
      "/home/thomas/Documents/ActiveAlarm_Processing/conda/lib/python3.10/site-packages/coremltools/converters/mil/mil/passes/defs/preprocess.py:273: UserWarning: Output, '66', of the source model, has been renamed to 'var_66' in the Core ML model.\n",
      "  warnings.warn(msg.format(var.name, new_name))\n",
      "Running MIL default pipeline: 100%|██████████████████████████████████████████████████████████████████████████████████████████████████████████████████████████████████████████████████████████████████████████████████████████| 86/86 [00:00<00:00, 1604.40 passes/s]\n",
      "Running MIL backend_neuralnetwork pipeline: 100%|███████████████████████████████████████████████████████████████████████████████████████████████████████████████████████████████████████████████████████████████████████████████| 9/9 [00:00<00:00, 977.64 passes/s]\n",
      "Translating MIL ==> NeuralNetwork Ops: 100%|████████████████████████████████████████████████████████████████████████████████████████████████████████████████████████████████████████████████████████████████████████████████████| 39/39 [00:00<00:00, 4454.98 ops/s]\n"
     ]
    }
   ],
   "source": [
    "import torch\n",
    "import coremltools as ct\n",
    "from torch.optim.lr_scheduler import StepLR\n",
    "import torch.nn as nn\n",
    "\n",
    "class SitUpModel(nn.Module):\n",
    "    def __init__(self, num_features, num_classes):\n",
    "        super(SitUpModel, self).__init__()\n",
    "        \n",
    "        # Define the model layers\n",
    "        self.conv1 = nn.Conv1d(in_channels=num_features, out_channels=64, kernel_size=7, padding=2)\n",
    "        self.bn1 = nn.BatchNorm1d(64)\n",
    "        self.relu = nn.ReLU()\n",
    "        self.conv2 = nn.Conv1d(64, 128, kernel_size=5, padding=2)\n",
    "        self.bn2 = nn.BatchNorm1d(128)\n",
    "        self.pool = nn.AdaptiveAvgPool1d(1)\n",
    "        self.fc = nn.Linear(128, num_classes)\n",
    "        self.sm = nn.Softmax()\n",
    "    \n",
    "    def forward(self, x):\n",
    "        # x shape: (batch_size, num_features, num_readings)\n",
    "        x = self.conv1(x)\n",
    "        x = self.bn1(x)\n",
    "        x = self.relu(x)\n",
    "        x = self.conv2(x)\n",
    "        x = self.bn2(x)\n",
    "        x = self.relu(x)\n",
    "        x = self.pool(x)  # x shape: (batch_size, 128, 1)\n",
    "        x = x.view(x.size(0), -1)  # Flatten to (batch_size, 128)\n",
    "        x = self.fc(x)  # Output shape: (batch_size, num_classes)\n",
    "        x = self.sm(x)\n",
    "        return x\n",
    "    \n",
    "device = torch.device('cuda' if torch.cuda.is_available() else 'cpu')\n",
    "print(\"device: \", device)\n",
    "\n",
    "# Load the checkpoint\n",
    "checkpoint = torch.load('checkpoint.pth')\n",
    "\n",
    "# Reinitialize the model and optimizer\n",
    "model = SitUpModel(num_features=9, num_classes=2).to(device)\n",
    "optimizer = torch.optim.Adam(model.parameters())\n",
    "scheduler = StepLR(optimizer, step_size=5, gamma=0.5)\n",
    "\n",
    "# Load the state dictionaries\n",
    "model.load_state_dict(checkpoint['model_state_dict'])\n",
    "optimizer.load_state_dict(checkpoint['optimizer_state_dict'])\n",
    "scheduler.load_state_dict(checkpoint['scheduler_state_dict'])\n",
    "\n",
    "model.eval()\n",
    "sample_input = torch.rand(1,9,200).to(device)\n",
    "traced_model = torch.jit.trace(model, sample_input)\n",
    "\n",
    "# Convert to Core ML\n",
    "mlmodel = ct.convert(\n",
    "    traced_model,\n",
    "    inputs=[ct.TensorType(shape=sample_input.shape)],\n",
    "    convert_to=\"neuralnetwork\"\n",
    ")\n",
    "\n",
    "# Save the Core ML model\n",
    "mlmodel.save(\"Situps4.mlmodel\")"
   ]
  },
  {
   "cell_type": "code",
   "execution_count": 19,
   "metadata": {},
   "outputs": [
    {
     "name": "stdout",
     "output_type": "stream",
     "text": [
      "Attempting to save model to: /home/thomas/Documents/ActiveAlarm_Processing/MyModel.mlpackage\n",
      "Model saved successfully to: /home/thomas/Documents/ActiveAlarm_Processing/MyModel.mlpackage\n"
     ]
    }
   ],
   "source": [
    "import os\n",
    "\n",
    "# Option 2: Relative to script location\n",
    "script_dir = os.getcwd()\n",
    "save_path = os.path.join(script_dir, \"MyModel.mlpackage\")\n",
    "\n",
    "print(f\"Attempting to save model to: {save_path}\")\n",
    "\n",
    "try:\n",
    "    mlmodel.save(save_path)\n",
    "    print(f\"Model saved successfully to: {save_path}\")\n",
    "except Exception as e:\n",
    "    print(f\"Failed to save model: {e}\")"
   ]
  }
 ],
 "metadata": {
  "kernelspec": {
   "display_name": "Python 3 (ipykernel)",
   "language": "python",
   "name": "python3"
  },
  "language_info": {
   "codemirror_mode": {
    "name": "ipython",
    "version": 3
   },
   "file_extension": ".py",
   "mimetype": "text/x-python",
   "name": "python",
   "nbconvert_exporter": "python",
   "pygments_lexer": "ipython3",
   "version": "3.10.14"
  }
 },
 "nbformat": 4,
 "nbformat_minor": 2
}
